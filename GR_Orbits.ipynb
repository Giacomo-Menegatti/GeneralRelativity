{
 "cells": [
  {
   "cell_type": "markdown",
   "metadata": {},
   "source": [
    "# Orbital Mechanics in General Relativity \n",
    "\n",
    "### The equation of motion in classical relativity\n",
    "\n",
    "This notebook studies a body rotating around a central mass M in polar coordinates. \n",
    "In the classical solution the force is given by $ \\vec F = -\\frac{GMm}{r^2} \\hat r $ and the potential energy is $ U = -\\frac{GMm}{r} $. \n",
    "This gives as a Lagrangian $$ \\mathcal{L}=\\frac{1}{2}m(\\dot r^2 + r^2 \\dot \\theta^2)+\\frac{GMm}{r} $$ and equation of motion  given by $ (\\frac {d}{dt} \\frac{\\partial}{\\partial \\dot q}- \\frac{\\partial}{\\partial q}) \\mathcal L = 0 $ \n",
    "$$ \\begin{equation} \n",
    "  \\begin{cases} \n",
    "    \\ddot r - r \\dot \\theta^2 = -\\frac{GM}{r^2} \\\\\n",
    "    \\frac{d}{dt}r^2 \\dot \\theta = 0 \\implies r^2 \\dot \\theta = l \n",
    "  \\end{cases} \n",
    "\\end{equation} $$ \n",
    "The specific angular momentum $ l $ is an integral of motion. This gives the ODEs\n",
    "$$ \\begin{equation} \n",
    "  \\begin{cases} \n",
    "    \\ddot r = -\\frac{GM}{r^2} + \\frac{l}{r^3} \\\\\n",
    "    \\dot \\theta = \\frac{l}{r^2} \\\\\n",
    "  \\end{cases} \n",
    "\\end{equation} $$\n",
    "\n",
    "\n",
    "### Schwarzschild metric\n",
    " \n",
    "In General Relativity, the coordinate time ($ t $) is no more invariant, so all the equations are described using the invariant proper time $ \\tau $, of which the coordinate time is a function. Also there is no force and the mass moves along a geodesic trajectory in a curved space time. \n",
    "The spacetime is described by the Schwarzschild metric $$ ds^2 = ds^\\mu g_{\\mu \\nu} ds^\\nu = -(1-\\frac{2GM}{c^2 r})c^2 dt^2 +(1-\\frac{2GM}{c^2 r})^{-1} dr^2 + r^2 d\\theta^2 $$. \n",
    "The equations of geodetic motion are derived from the 4-velocity $ u = (\\frac{dt}{d \\tau},\\frac{dr}{d \\tau}, \\frac{d \\theta}{d \\tau}) $ and the Christoffel symbols $ \\Gamma^{\\alpha}_{\\mu \\nu} = \\frac{1}{2}g^{\\alpha \\lambda}(g_{\\lambda \\nu, \\mu}+ g_{\\lambda \\mu, \\nu} - g_{\\mu \\nu, \\lambda}) $. \n",
    "$$ \\begin{equation}\n",
    "    \\begin{cases}\n",
    "      \\frac{dx^\\mu}{d \\tau}= u^\\mu\\\\\n",
    "      \\frac{du^\\alpha}{d \\tau} + \\Gamma^\\alpha_{\\beta \\gamma}u^\\beta u^\\gamma = 0\n",
    "    \\end{cases}\\\n",
    "\\end{equation} $$ \n",
    "Using $ r_S $ = \\frac{GM}{c^2}, in this metric the non-zero Christoffel symbols are $\\Gamma^r_{tt}= \\frac{c^2r_S(r-2r_S)}{r^3} $,   $\\Gamma^t_{rt}= \\frac{r_S}{r(r-2r_S)} $,   $ \\Gamma^r_{rr}= -\\frac{r_S}{r(r-2r_S)} $,    $ \\Gamma^\\theta_{\\theta r}= \\frac{1}{r} $,   $ \\Gamma^r_{\\theta \\theta}= -(r-2r_S) $\n",
    "\n",
    "Also, in this metric there are two integrals of motion, given by $ \\xi \\cdot u $, with $ \\xi = (1,0,0) $ and $ (0,0,1) $ (because the metric only depends on $r$). This gives the two integrals $$ \\begin{equation}\n",
    "    \\begin{cases}\n",
    "      \\frac{dt}{d \\tau}(1-\\frac{2GM}{r})= e \\implies \\frac{dt}{d \\tau} = \\frac{e}{1-2r_S} \\\\\n",
    "      \\frac{d\\theta}{d \\tau}r^2 = l \\implies \\frac{d\\theta}{d \\tau} = \\frac{l}{r^2}\n",
    "    \\end{cases}\\\n",
    "\\end{equation} $$ \n",
    "\n",
    "### A different version of geodesic equations\n",
    "Different bodies will have different proper times at the same coordinate time, so to compare them the equations are rewritten to be integrated in $t$ by using $ \\frac{d}{d\\tau}= \\frac{dt}{d\\tau}\\frac{d}{dt} $. The 4-velocity now has the form $u = \\frac{dt}{d\\tau}(1,\\frac{dr}{dt}, \\frac{d\\theta}{dt}) = u^0 \\hat u  $ and the geodesic equation becomes $ u^0 \\frac{du}{dt}+\\Gamma^\\alpha_{\\beta \\gamma}u^\\beta u^\\gamma=0 \\implies   u^0 \\dot u^0 \\hat u + (u^0)^2 \\dot{ \\hat u} + (u^0)^2 \\Gamma^\\alpha_{\\beta \\gamma} \\hat u^\\beta \\hat u^\\gamma=0 \\implies \\frac{\\dot u^0}{u^0} \\hat u + \\dot{ \\hat u} + \\Gamma^\\alpha_{\\beta \\gamma} \\hat u^\\beta \\hat u^\\gamma= 0 $ \n",
    "Adding the integral of motions, this gives the equations $$ \\begin{equation}\n",
    "    \\begin{cases}\n",
    "      \\dot \\tau = \\frac{1-\\frac{r_S}{r}}{e}\\\\\n",
    "      \\dot \\theta = \\frac{l}{e}\\frac{r-2r_S}{r^3}\\\\\n",
    "      \\dot r = -\n",
    "    \\end{cases}\\\n",
    "\\end{equation} $$ \n",
    "\n",
    "\n",
    "\n",
    "\n",
    "\n",
    "\n"
   ]
  },
  {
   "cell_type": "code",
   "execution_count": 1,
   "metadata": {},
   "outputs": [
    {
     "ename": "SyntaxError",
     "evalue": "incomplete input (97615161.py, line 9)",
     "output_type": "error",
     "traceback": [
      "\u001b[0;36m  Cell \u001b[0;32mIn[1], line 9\u001b[0;36m\u001b[0m\n\u001b[0;31m    \u001b[0m\n\u001b[0m    ^\u001b[0m\n\u001b[0;31mSyntaxError\u001b[0m\u001b[0;31m:\u001b[0m incomplete input\n"
     ]
    }
   ],
   "source": [
    "G = 1\n",
    "c = 1\n",
    "M = 1\n",
    "\n",
    "\n",
    "\n",
    "\n",
    "def f_classic():  #Classic mechanic ode\n",
    "  "
   ]
  }
 ],
 "metadata": {
  "kernelspec": {
   "display_name": "Python 3",
   "language": "python",
   "name": "python3"
  },
  "language_info": {
   "codemirror_mode": {
    "name": "ipython",
    "version": 3
   },
   "file_extension": ".py",
   "mimetype": "text/x-python",
   "name": "python",
   "nbconvert_exporter": "python",
   "pygments_lexer": "ipython3",
   "version": "3.10.12"
  }
 },
 "nbformat": 4,
 "nbformat_minor": 2
}
